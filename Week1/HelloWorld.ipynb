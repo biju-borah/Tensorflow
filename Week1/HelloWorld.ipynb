{
 "cells": [
  {
   "cell_type": "code",
   "execution_count": null,
   "id": "52f5f502",
   "metadata": {},
   "outputs": [],
   "source": [
    "import numpy as np\n",
    "import keras\n"
   ]
  },
  {
   "cell_type": "code",
   "execution_count": null,
   "id": "9a6ec082",
   "metadata": {},
   "outputs": [],
   "source": [
    "model = keras.Sequential([keras.layers.Dense(units=1,input_shape=[1])])"
   ]
  },
  {
   "cell_type": "code",
   "execution_count": null,
   "id": "68987c4b",
   "metadata": {},
   "outputs": [],
   "source": [
    "model.compile(optimizer='sgd',loss='mean_squared_root')"
   ]
  },
  {
   "cell_type": "code",
   "execution_count": null,
   "id": "3f73fb21",
   "metadata": {},
   "outputs": [],
   "source": [
    "xs = np.array([-1.0,0.0,1.0,2.0,3.0,4.0],dtype=float)\n",
    "ys = np.array([-3.0,-1.0,1.0,3.0,5.0,7.0],dtype=float)"
   ]
  },
  {
   "cell_type": "code",
   "execution_count": null,
   "id": "b4050cef",
   "metadata": {},
   "outputs": [],
   "source": [
    "model.fit(xs,ys,epochs=500)"
   ]
  },
  {
   "cell_type": "code",
   "execution_count": null,
   "id": "298ff0a6",
   "metadata": {},
   "outputs": [],
   "source": [
    "print(model.pridict([10.0]))"
   ]
  }
 ],
 "metadata": {
  "kernelspec": {
   "display_name": "Python 3",
   "language": "python",
   "name": "python3"
  },
  "language_info": {
   "codemirror_mode": {
    "name": "ipython",
    "version": 3
   },
   "file_extension": ".py",
   "mimetype": "text/x-python",
   "name": "python",
   "nbconvert_exporter": "python",
   "pygments_lexer": "ipython3",
   "version": "3.8.6"
  }
 },
 "nbformat": 4,
 "nbformat_minor": 5
}
